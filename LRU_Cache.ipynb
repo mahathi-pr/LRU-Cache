{
  "nbformat": 4,
  "nbformat_minor": 0,
  "metadata": {
    "colab": {
      "provenance": [],
      "authorship_tag": "ABX9TyNriccR/evasa3CaSqDmEAJ",
      "include_colab_link": true
    },
    "kernelspec": {
      "name": "python3",
      "display_name": "Python 3"
    },
    "language_info": {
      "name": "python"
    }
  },
  "cells": [
    {
      "cell_type": "markdown",
      "metadata": {
        "id": "view-in-github",
        "colab_type": "text"
      },
      "source": [
        "<a href=\"https://colab.research.google.com/github/mahathi-pr/LRU-Cache/blob/main/LRU_Cache.ipynb\" target=\"_parent\"><img src=\"https://colab.research.google.com/assets/colab-badge.svg\" alt=\"Open In Colab\"/></a>"
      ]
    },
    {
      "cell_type": "code",
      "source": [
        "%%writefile main.cpp\n",
        "#include <iostream>\n",
        "#include <unordered_map>\n",
        "#include <list>\n",
        "\n",
        "using namespace std;\n",
        "\n",
        "class LRUCache {\n",
        "    int capacity;\n",
        "    list<int> usageOrder;\n",
        "    unordered_map<int, pair<int, list<int>::iterator>> cache;\n",
        "\n",
        "public:\n",
        "    LRUCache(int cap) {\n",
        "        capacity = cap;\n",
        "    }\n",
        "\n",
        "    int get(int key) {\n",
        "        if (cache.find(key) == cache.end()) return -1;\n",
        "        usageOrder.erase(cache[key].second);\n",
        "        usageOrder.push_front(key);\n",
        "        cache[key].second = usageOrder.begin();\n",
        "        return cache[key].first;\n",
        "    }\n",
        "\n",
        "    void put(int key, int value) {\n",
        "        if (cache.find(key) != cache.end()) {\n",
        "            usageOrder.erase(cache[key].second);\n",
        "        } else if (usageOrder.size() >= capacity) {\n",
        "            int leastUsedKey = usageOrder.back();\n",
        "            usageOrder.pop_back();\n",
        "            cache.erase(leastUsedKey);\n",
        "        }\n",
        "        usageOrder.push_front(key);\n",
        "        cache[key] = {value, usageOrder.begin()};\n",
        "    }\n",
        "\n",
        "    void display() {\n",
        "        cout << \"Current Cache State (Most -> Least Recent): \";\n",
        "        for (int key : usageOrder) {\n",
        "            cout << \"[\" << key << \":\" << cache[key].first << \"] \";\n",
        "        }\n",
        "        cout << \"\\n\";\n",
        "    }\n",
        "};\n",
        "\n",
        "int main() {\n",
        "    LRUCache cache(3);\n",
        "    cache.put(1, 100);\n",
        "    cache.put(2, 200);\n",
        "    cache.put(3, 300);\n",
        "    cache.display();\n",
        "\n",
        "    cout << \"Get key 2: \" << cache.get(2) << \"\\n\";\n",
        "    cache.display();\n",
        "\n",
        "    cache.put(4, 400);\n",
        "    cache.display();\n",
        "\n",
        "    cout << \"Get key 1: \" << cache.get(1) << \"\\n\";\n",
        "    return 0;\n",
        "}\n"
      ],
      "metadata": {
        "colab": {
          "base_uri": "https://localhost:8080/"
        },
        "id": "unShVqN7nT09",
        "outputId": "30e51b2a-719f-4941-9647-e7e2f3341f5c"
      },
      "execution_count": null,
      "outputs": [
        {
          "output_type": "stream",
          "name": "stdout",
          "text": [
            "Overwriting main.cpp\n"
          ]
        }
      ]
    },
    {
      "cell_type": "code",
      "source": [
        "!g++ main.cpp -o main && ./main\n"
      ],
      "metadata": {
        "colab": {
          "base_uri": "https://localhost:8080/"
        },
        "id": "GBO2EPYJnbsp",
        "outputId": "7c9d8f3c-0a8e-4588-a2be-7cd3e620a2de"
      },
      "execution_count": null,
      "outputs": [
        {
          "output_type": "stream",
          "name": "stdout",
          "text": [
            "Current Cache State (Most -> Least Recent): [3:300] [2:200] [1:100] \n",
            "Get key 2: 200\n",
            "Current Cache State (Most -> Least Recent): [2:200] [3:300] [1:100] \n",
            "Current Cache State (Most -> Least Recent): [4:400] [2:200] [3:300] \n",
            "Get key 1: -1\n"
          ]
        }
      ]
    },
    {
      "cell_type": "code",
      "source": [
        "%%writefile test.cpp\n",
        "#include \"main.cpp\"\n",
        "\n",
        "void testLRU() {\n",
        "    cout << \"== Test Case 1 ==\" << endl;\n",
        "    LRUCache cache(3);\n",
        "    cache.put(1, 100);\n",
        "    cache.put(2, 200);\n",
        "    cache.put(3, 300);\n",
        "    cache.display();\n",
        "\n",
        "    cout << \"Get key 2: \" << cache.get(2) << endl;\n",
        "    cache.display();\n",
        "\n",
        "    cache.put(4, 400);\n",
        "    cache.display();\n",
        "\n",
        "    cout << \"Get key 1: \" << cache.get(1) << endl;\n",
        "\n",
        "    cout << \"\\n== Test Case 2 ==\" << endl;\n",
        "    LRUCache smallCache(2);\n",
        "    smallCache.put(10, 1000);\n",
        "    smallCache.put(20, 2000);\n",
        "    smallCache.display();\n",
        "\n",
        "    smallCache.get(10);\n",
        "    smallCache.display();\n",
        "\n",
        "    smallCache.put(30, 3000);\n",
        "    smallCache.display();\n",
        "\n",
        "    cout << \"Get key 20: \" << smallCache.get(20) << endl;\n",
        "    cout << \"Get key 30: \" << smallCache.get(30) << endl;\n",
        "}\n",
        "\n",
        "int main() {\n",
        "    testLRU();\n",
        "    return 0;\n",
        "}\n"
      ],
      "metadata": {
        "colab": {
          "base_uri": "https://localhost:8080/"
        },
        "id": "TC3rzqxcoRjh",
        "outputId": "2ac9f046-547b-4992-ffee-fc0f7ec3852e"
      },
      "execution_count": null,
      "outputs": [
        {
          "output_type": "stream",
          "name": "stdout",
          "text": [
            "Writing test.cpp\n"
          ]
        }
      ]
    },
    {
      "cell_type": "code",
      "source": [
        "!g++ main.cpp -o main && ./main\n",
        "\n"
      ],
      "metadata": {
        "colab": {
          "base_uri": "https://localhost:8080/"
        },
        "id": "R3TUaDe_oRGk",
        "outputId": "a8843004-09c0-4edb-9773-7cc487972478"
      },
      "execution_count": null,
      "outputs": [
        {
          "output_type": "stream",
          "name": "stdout",
          "text": [
            "Current Cache State (Most -> Least Recent): [3:300] [2:200] [1:100] \n",
            "Get key 2: 200\n",
            "Current Cache State (Most -> Least Recent): [2:200] [3:300] [1:100] \n",
            "Current Cache State (Most -> Least Recent): [4:400] [2:200] [3:300] \n",
            "Get key 1: -1\n"
          ]
        }
      ]
    }
  ]
}